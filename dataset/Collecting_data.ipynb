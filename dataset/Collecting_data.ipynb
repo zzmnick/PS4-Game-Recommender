{
  "nbformat": 4,
  "nbformat_minor": 0,
  "metadata": {
    "colab": {
      "name": "Collecting_data.ipynb",
      "provenance": [],
      "collapsed_sections": []
    },
    "kernelspec": {
      "name": "python3",
      "display_name": "Python 3"
    },
    "language_info": {
      "name": "python"
    }
  },
  "cells": [
    {
      "cell_type": "markdown",
      "metadata": {
        "id": "Sxew7z7RIeQA"
      },
      "source": [
        "# games info dataset"
      ]
    },
    {
      "cell_type": "code",
      "metadata": {
        "id": "56O-6HLg7fni"
      },
      "source": [
        "import requests, re, time\n",
        "import pandas, csv\n",
        "import pickle"
      ],
      "execution_count": 1,
      "outputs": []
    },
    {
      "cell_type": "markdown",
      "metadata": {
        "id": "4rSjXKS2I13N"
      },
      "source": [
        "Initial tests for extracting useful information from one page:"
      ]
    },
    {
      "cell_type": "code",
      "metadata": {
        "id": "n5CmlKrzzqTo",
        "colab": {
          "base_uri": "https://localhost:8080/"
        },
        "outputId": "2f4111dc-f9f8-4302-fe5f-c0280f2688db"
      },
      "source": [
        "resp = requests.get('https://www.truetrophies.com/game/A-Boy-and-His-Blob')\n",
        "resp.status_code"
      ],
      "execution_count": 2,
      "outputs": [
        {
          "output_type": "execute_result",
          "data": {
            "text/plain": [
              "200"
            ]
          },
          "metadata": {
            "tags": []
          },
          "execution_count": 2
        }
      ]
    },
    {
      "cell_type": "code",
      "metadata": {
        "id": "pY4u75NTz6vU"
      },
      "source": [
        "page = resp.content.decode()\n",
        "page"
      ],
      "execution_count": null,
      "outputs": []
    },
    {
      "cell_type": "code",
      "metadata": {
        "id": "ha_Syy6a2xbg",
        "colab": {
          "base_uri": "https://localhost:8080/"
        },
        "outputId": "9718a250-b278-4404-b3ce-20f1856d238f"
      },
      "source": [
        "genres = re.findall('/genre/.{1,30}\\\">', page)\n",
        "genres = list(set(genres))\n",
        "genres = [s[7:-2] for s in genres]\n",
        "genres"
      ],
      "execution_count": 4,
      "outputs": [
        {
          "output_type": "execute_result",
          "data": {
            "text/plain": [
              "['Platformer', 'Puzzle']"
            ]
          },
          "metadata": {
            "tags": []
          },
          "execution_count": 4
        }
      ]
    },
    {
      "cell_type": "code",
      "metadata": {
        "id": "4rmMqCKo7z7w",
        "colab": {
          "base_uri": "https://localhost:8080/"
        },
        "outputId": "db1df343-b06b-4679-cf3b-e56e99890ca9"
      },
      "source": [
        "developer = re.findall('/developer/.{1,30}\\\">', page)\n",
        "developer = list(set(developer))\n",
        "developer = [s[11:-2] for s in developer]\n",
        "developer"
      ],
      "execution_count": 5,
      "outputs": [
        {
          "output_type": "execute_result",
          "data": {
            "text/plain": [
              "['WayForward-Technologies', 'Abstraction-Games']"
            ]
          },
          "metadata": {
            "tags": []
          },
          "execution_count": 5
        }
      ]
    },
    {
      "cell_type": "code",
      "metadata": {
        "id": "RojEQI9HpONZ",
        "colab": {
          "base_uri": "https://localhost:8080/"
        },
        "outputId": "031b38c5-4792-46b9-caad-b2f3cf771cdc"
      },
      "source": [
        "publisher = re.findall('/publisher/.{1,30}\\\">', page)\n",
        "publisher = list(set(publisher))\n",
        "publisher = [s[11:-2] for s in publisher]\n",
        "publisher"
      ],
      "execution_count": 6,
      "outputs": [
        {
          "output_type": "execute_result",
          "data": {
            "text/plain": [
              "['Ziggurat']"
            ]
          },
          "metadata": {
            "tags": []
          },
          "execution_count": 6
        }
      ]
    },
    {
      "cell_type": "code",
      "metadata": {
        "id": "_08Cervm33jC",
        "colab": {
          "base_uri": "https://localhost:8080/",
          "height": 35
        },
        "outputId": "a8a0090c-9369-419b-dc11-eeb830cdd850"
      },
      "source": [
        "date = re.findall('/xbox-releases/.{1,25}\\\">', page)\n",
        "date = date[0][15:-2]\n",
        "date"
      ],
      "execution_count": 7,
      "outputs": [
        {
          "output_type": "execute_result",
          "data": {
            "application/vnd.google.colaboratory.intrinsic+json": {
              "type": "string"
            },
            "text/plain": [
              "'2016/January/19'"
            ]
          },
          "metadata": {
            "tags": []
          },
          "execution_count": 7
        }
      ]
    },
    {
      "cell_type": "code",
      "metadata": {
        "id": "NgLuGf7VCefm",
        "colab": {
          "base_uri": "https://localhost:8080/",
          "height": 35
        },
        "outputId": "44aa28ff-68e6-4638-996a-96308c8354d8"
      },
      "source": [
        "size = re.findall('<dt>Size:</dt><dd>.{1,10}</dd><dt>', page)\n",
        "size = size[0][18:-9]\n",
        "size"
      ],
      "execution_count": 8,
      "outputs": [
        {
          "output_type": "execute_result",
          "data": {
            "application/vnd.google.colaboratory.intrinsic+json": {
              "type": "string"
            },
            "text/plain": [
              "'4.42GB'"
            ]
          },
          "metadata": {
            "tags": []
          },
          "execution_count": 8
        }
      ]
    },
    {
      "cell_type": "markdown",
      "metadata": {
        "id": "xne3Jz9lJOeE"
      },
      "source": [
        "Read the initaial csv file and get the pages from the links included in the file:"
      ]
    },
    {
      "cell_type": "code",
      "metadata": {
        "id": "cnLuG-yt56h0"
      },
      "source": [
        "df = pandas.read_csv('drive/MyDrive/games_info.csv')\n",
        "links = df['Links']"
      ],
      "execution_count": 9,
      "outputs": []
    },
    {
      "cell_type": "code",
      "metadata": {
        "id": "Xh788eZBBcJS"
      },
      "source": [
        "pages = []\n",
        "for link in links:\n",
        "  resp = requests.get(link)\n",
        "  time.sleep(4)                    #stop running for 4 seconds here to avoid getting IP blocked by the site\n",
        "  page = resp.content.decode()\n",
        "  pages.append(page)"
      ],
      "execution_count": null,
      "outputs": []
    },
    {
      "cell_type": "markdown",
      "metadata": {
        "id": "BZaOJ-vTJh0N"
      },
      "source": [
        "The following cells are for extracting the useful information from the pages and adding the extracted information as new columns into the dataframe:"
      ]
    },
    {
      "cell_type": "code",
      "metadata": {
        "id": "mN2TJvOn62x4"
      },
      "source": [
        "genres_all = []\n",
        "for page in pages:\n",
        "  genres = re.findall('/genre/.{1,30}\\\">', page)\n",
        "  genres = list(set(genres))\n",
        "  genres = [s[7:-2] for s in genres]\n",
        "  genres_all.append(genres)"
      ],
      "execution_count": null,
      "outputs": []
    },
    {
      "cell_type": "code",
      "metadata": {
        "id": "3E4JXlXfCtnA"
      },
      "source": [
        "i = 0\n",
        "for genres in genres_all:\n",
        "  s = ''\n",
        "  for genre in genres:\n",
        "    s = s + genre + '|'\n",
        "  s = s[0:-1]\n",
        "  df['genres'][i] = s\n",
        "  i += 1"
      ],
      "execution_count": null,
      "outputs": []
    },
    {
      "cell_type": "code",
      "metadata": {
        "id": "tlxY3-fKLLd1"
      },
      "source": [
        "developers_all = []\n",
        "for page in pages:\n",
        "  developers = re.findall('/developer/.{1,35}\\\">', page)\n",
        "  developers = list(set(developers))\n",
        "  developers = [s[11:-2] for s in developers]\n",
        "  developers_all.append(developers)"
      ],
      "execution_count": null,
      "outputs": []
    },
    {
      "cell_type": "code",
      "metadata": {
        "id": "A5y193X3jcYp"
      },
      "source": [
        "i = 0\n",
        "for developer in developers_all:\n",
        "  s = ''\n",
        "  for dev in developer:\n",
        "    s = s + dev + '|'\n",
        "  s = s[0:-1]\n",
        "  df['developer'][i] = s\n",
        "  i += 1"
      ],
      "execution_count": null,
      "outputs": []
    },
    {
      "cell_type": "code",
      "metadata": {
        "id": "I1Vwou-ivBak"
      },
      "source": [
        "publishers_all = []\n",
        "for page in pages:\n",
        "  publisher = re.findall('/publisher/.{1,40}\\\">', page)\n",
        "  publisher = list(set(publisher))\n",
        "  publisher = [s[11:-2] for s in publisher]\n",
        "  publishers_all.append(publisher)"
      ],
      "execution_count": null,
      "outputs": []
    },
    {
      "cell_type": "code",
      "metadata": {
        "id": "G13G55jUxJz1"
      },
      "source": [
        "i = 0\n",
        "for pubs in publishers_all:\n",
        "  s = ''\n",
        "  for p in pubs:\n",
        "    s = s + p + '|'\n",
        "  s = s[0:-1]\n",
        "  df['publisher'][i] = s\n",
        "  i += 1"
      ],
      "execution_count": null,
      "outputs": []
    },
    {
      "cell_type": "code",
      "metadata": {
        "id": "Rkwdy4iu4vdj"
      },
      "source": [
        "dates_all = []\n",
        "for page in pages:\n",
        "  date = re.findall('/xbox-releases/.{1,25}\\\">', page)\n",
        "  if (len(date) != 0):\n",
        "    date = date[0][15:-2]\n",
        "  else:\n",
        "    date = ''\n",
        "  dates_all.append(date)\n",
        "i = 0\n",
        "for d in dates_all:\n",
        "  df['release_date'][i] = d\n",
        "  i += 1"
      ],
      "execution_count": null,
      "outputs": []
    },
    {
      "cell_type": "code",
      "metadata": {
        "id": "BOEorwnD_gQT"
      },
      "source": [
        "sizes_all = []\n",
        "for page in pages:\n",
        "  size = re.findall('<dt>Size:</dt><dd>.{1,10}</dd><dt>', page)\n",
        "  if (len(size) != 0):\n",
        "    size = size[0][18:-9]\n",
        "  else:\n",
        "    size = ''\n",
        "  sizes_all.append(size)\n",
        "i = 0\n",
        "for s in sizes_all:\n",
        "  df['size'][i] = s\n",
        "  i += 1"
      ],
      "execution_count": null,
      "outputs": []
    },
    {
      "cell_type": "code",
      "metadata": {
        "colab": {
          "base_uri": "https://localhost:8080/",
          "height": 876
        },
        "id": "gsDa4f6mHEFH",
        "outputId": "2d61690d-4606-43f6-bfca-e66a9e6ee60f"
      },
      "source": [
        "df"
      ],
      "execution_count": 10,
      "outputs": [
        {
          "output_type": "execute_result",
          "data": {
            "text/html": [
              "<div>\n",
              "<style scoped>\n",
              "    .dataframe tbody tr th:only-of-type {\n",
              "        vertical-align: middle;\n",
              "    }\n",
              "\n",
              "    .dataframe tbody tr th {\n",
              "        vertical-align: top;\n",
              "    }\n",
              "\n",
              "    .dataframe thead th {\n",
              "        text-align: right;\n",
              "    }\n",
              "</style>\n",
              "<table border=\"1\" class=\"dataframe\">\n",
              "  <thead>\n",
              "    <tr style=\"text-align: right;\">\n",
              "      <th></th>\n",
              "      <th>index</th>\n",
              "      <th>game</th>\n",
              "      <th>score</th>\n",
              "      <th>leaderbord</th>\n",
              "      <th>gamers</th>\n",
              "      <th>comp_perc</th>\n",
              "      <th>rating</th>\n",
              "      <th>url</th>\n",
              "      <th>min_comp_time</th>\n",
              "      <th>max_comp_time</th>\n",
              "      <th>Links</th>\n",
              "      <th>genres</th>\n",
              "      <th>developer</th>\n",
              "      <th>publisher</th>\n",
              "      <th>release_date</th>\n",
              "      <th>size</th>\n",
              "    </tr>\n",
              "  </thead>\n",
              "  <tbody>\n",
              "    <tr>\n",
              "      <th>0</th>\n",
              "      <td>0</td>\n",
              "      <td>A Boy and His Blob</td>\n",
              "      <td>638</td>\n",
              "      <td>2.02</td>\n",
              "      <td>2194</td>\n",
              "      <td>16.5</td>\n",
              "      <td>3.2</td>\n",
              "      <td>https://www.truetrophies.com/game/A-Boy-and-Hi...</td>\n",
              "      <td>15</td>\n",
              "      <td>20</td>\n",
              "      <td>https://www.truetrophies.com/game/A-Boy-and-Hi...</td>\n",
              "      <td>Puzzle|Platformer</td>\n",
              "      <td>WayForward-Technologies|Abstraction-Games</td>\n",
              "      <td>Ziggurat</td>\n",
              "      <td>2016/January/19</td>\n",
              "      <td>4.42GB</td>\n",
              "    </tr>\n",
              "    <tr>\n",
              "      <th>1</th>\n",
              "      <td>1</td>\n",
              "      <td>A Hat in Time</td>\n",
              "      <td>1992</td>\n",
              "      <td>1.53</td>\n",
              "      <td>7062</td>\n",
              "      <td>35.9</td>\n",
              "      <td>4.2</td>\n",
              "      <td>https://www.truetrophies.com/game/A-Hat-in-Tim...</td>\n",
              "      <td>15</td>\n",
              "      <td>20</td>\n",
              "      <td>https://www.truetrophies.com/game/A-Hat-in-Time</td>\n",
              "      <td>Platformer</td>\n",
              "      <td>Gears-for-Breakfast</td>\n",
              "      <td>Humble-Games</td>\n",
              "      <td>2017/December/05</td>\n",
              "      <td>4.04GB</td>\n",
              "    </tr>\n",
              "    <tr>\n",
              "      <th>2</th>\n",
              "      <td>2</td>\n",
              "      <td>A Hero and a Garden</td>\n",
              "      <td>1364</td>\n",
              "      <td>1.01</td>\n",
              "      <td>503</td>\n",
              "      <td>97.6</td>\n",
              "      <td>5.0</td>\n",
              "      <td>https://www.truetrophies.com/game/A-Hero-and-a...</td>\n",
              "      <td>0</td>\n",
              "      <td>1</td>\n",
              "      <td>https://www.truetrophies.com/game/A-Hero-and-a...</td>\n",
              "      <td>Visual-Novel</td>\n",
              "      <td>npckc</td>\n",
              "      <td>Ratalaika-Games</td>\n",
              "      <td>2020/August/28</td>\n",
              "      <td>90MB</td>\n",
              "    </tr>\n",
              "    <tr>\n",
              "      <th>3</th>\n",
              "      <td>3</td>\n",
              "      <td>A Hero and a Garden (EU)</td>\n",
              "      <td>1363</td>\n",
              "      <td>1.01</td>\n",
              "      <td>581</td>\n",
              "      <td>97.8</td>\n",
              "      <td>2.9</td>\n",
              "      <td>https://www.truetrophies.com/game/A-Hero-and-a...</td>\n",
              "      <td>0</td>\n",
              "      <td>1</td>\n",
              "      <td>https://www.truetrophies.com/game/A-Hero-and-a...</td>\n",
              "      <td>Visual-Novel</td>\n",
              "      <td>npckc</td>\n",
              "      <td>Ratalaika-Games</td>\n",
              "      <td>2020/August/28</td>\n",
              "      <td>90MB</td>\n",
              "    </tr>\n",
              "    <tr>\n",
              "      <th>4</th>\n",
              "      <td>4</td>\n",
              "      <td>A King's Tale: Final Fantasy XV</td>\n",
              "      <td>637</td>\n",
              "      <td>2.02</td>\n",
              "      <td>21914</td>\n",
              "      <td>14.1</td>\n",
              "      <td>3.3</td>\n",
              "      <td>https://www.truetrophies.com/game/A-Kings-Tale...</td>\n",
              "      <td>4</td>\n",
              "      <td>5</td>\n",
              "      <td>https://www.truetrophies.com/game/A-Kings-Tale...</td>\n",
              "      <td>Action-Adventure|Beat-em-up</td>\n",
              "      <td>Empty-Clip-Studios</td>\n",
              "      <td>Square-Enix</td>\n",
              "      <td>2016/November/29</td>\n",
              "      <td>2.05GB</td>\n",
              "    </tr>\n",
              "    <tr>\n",
              "      <th>...</th>\n",
              "      <td>...</td>\n",
              "      <td>...</td>\n",
              "      <td>...</td>\n",
              "      <td>...</td>\n",
              "      <td>...</td>\n",
              "      <td>...</td>\n",
              "      <td>...</td>\n",
              "      <td>...</td>\n",
              "      <td>...</td>\n",
              "      <td>...</td>\n",
              "      <td>...</td>\n",
              "      <td>...</td>\n",
              "      <td>...</td>\n",
              "      <td>...</td>\n",
              "      <td>...</td>\n",
              "      <td>...</td>\n",
              "    </tr>\n",
              "    <tr>\n",
              "      <th>1579</th>\n",
              "      <td>1579</td>\n",
              "      <td>36 Fragments of Midnight</td>\n",
              "      <td>1367</td>\n",
              "      <td>1.06</td>\n",
              "      <td>8472</td>\n",
              "      <td>82.3</td>\n",
              "      <td>2.5</td>\n",
              "      <td>https://www.truetrophies.com/game/36-Fragments...</td>\n",
              "      <td>0</td>\n",
              "      <td>1</td>\n",
              "      <td>https://www.truetrophies.com/game/36-Fragments...</td>\n",
              "      <td>Platformer</td>\n",
              "      <td>Petite-Games</td>\n",
              "      <td>Ratalaika-Games</td>\n",
              "      <td>2017/December/19</td>\n",
              "      <td>147MB</td>\n",
              "    </tr>\n",
              "    <tr>\n",
              "      <th>1580</th>\n",
              "      <td>1580</td>\n",
              "      <td>36 Fragments of Midnight (Asia)</td>\n",
              "      <td>1335</td>\n",
              "      <td>1.03</td>\n",
              "      <td>2131</td>\n",
              "      <td>88.9</td>\n",
              "      <td>2.4</td>\n",
              "      <td>https://www.truetrophies.com/game/36-Fragments...</td>\n",
              "      <td>0</td>\n",
              "      <td>1</td>\n",
              "      <td>https://www.truetrophies.com/game/36-Fragments...</td>\n",
              "      <td>Platformer</td>\n",
              "      <td>Petite-Games</td>\n",
              "      <td>eastasiasoft</td>\n",
              "      <td>2018/May/02</td>\n",
              "      <td>175MB</td>\n",
              "    </tr>\n",
              "    <tr>\n",
              "      <th>1581</th>\n",
              "      <td>1581</td>\n",
              "      <td>36 Fragments of Midnight (EU)</td>\n",
              "      <td>1382</td>\n",
              "      <td>1.07</td>\n",
              "      <td>12273</td>\n",
              "      <td>79.2</td>\n",
              "      <td>2.4</td>\n",
              "      <td>https://www.truetrophies.com/game/36-Fragments...</td>\n",
              "      <td>0</td>\n",
              "      <td>1</td>\n",
              "      <td>https://www.truetrophies.com/game/36-Fragments...</td>\n",
              "      <td>Platformer</td>\n",
              "      <td>Petite-Games</td>\n",
              "      <td>Ratalaika-Games</td>\n",
              "      <td>2018/January/05</td>\n",
              "      <td>151MB</td>\n",
              "    </tr>\n",
              "    <tr>\n",
              "      <th>1582</th>\n",
              "      <td>1582</td>\n",
              "      <td>428: Shibuya Scramble</td>\n",
              "      <td>1943</td>\n",
              "      <td>1.47</td>\n",
              "      <td>916</td>\n",
              "      <td>41.5</td>\n",
              "      <td>4.2</td>\n",
              "      <td>https://www.truetrophies.com/game/428-Shibuya-...</td>\n",
              "      <td>40</td>\n",
              "      <td>50</td>\n",
              "      <td>https://www.truetrophies.com/game/428-Shibuya-...</td>\n",
              "      <td>Visual-Novel</td>\n",
              "      <td>Abstraction-Games</td>\n",
              "      <td>Spike-Chunsoft</td>\n",
              "      <td>2018/September/04</td>\n",
              "      <td>4.42GB</td>\n",
              "    </tr>\n",
              "    <tr>\n",
              "      <th>1583</th>\n",
              "      <td>1583</td>\n",
              "      <td>428: Shibuya Scramble (EU)</td>\n",
              "      <td>1917</td>\n",
              "      <td>1.45</td>\n",
              "      <td>718</td>\n",
              "      <td>42.6</td>\n",
              "      <td>4.2</td>\n",
              "      <td>https://www.truetrophies.com/game/428-Shibuya-...</td>\n",
              "      <td>40</td>\n",
              "      <td>50</td>\n",
              "      <td>https://www.truetrophies.com/game/428-Shibuya-...</td>\n",
              "      <td>Visual-Novel</td>\n",
              "      <td>Abstraction-Games</td>\n",
              "      <td>Ravenscourt</td>\n",
              "      <td>2018/September/21</td>\n",
              "      <td>4.42GB</td>\n",
              "    </tr>\n",
              "  </tbody>\n",
              "</table>\n",
              "<p>1584 rows × 16 columns</p>\n",
              "</div>"
            ],
            "text/plain": [
              "      index                             game  ...       release_date    size\n",
              "0         0               A Boy and His Blob  ...    2016/January/19  4.42GB\n",
              "1         1                    A Hat in Time  ...   2017/December/05  4.04GB\n",
              "2         2              A Hero and a Garden  ...     2020/August/28    90MB\n",
              "3         3         A Hero and a Garden (EU)  ...     2020/August/28    90MB\n",
              "4         4  A King's Tale: Final Fantasy XV  ...   2016/November/29  2.05GB\n",
              "...     ...                              ...  ...                ...     ...\n",
              "1579   1579         36 Fragments of Midnight  ...   2017/December/19   147MB\n",
              "1580   1580  36 Fragments of Midnight (Asia)  ...        2018/May/02   175MB\n",
              "1581   1581    36 Fragments of Midnight (EU)  ...    2018/January/05   151MB\n",
              "1582   1582            428: Shibuya Scramble  ...  2018/September/04  4.42GB\n",
              "1583   1583       428: Shibuya Scramble (EU)  ...  2018/September/21  4.42GB\n",
              "\n",
              "[1584 rows x 16 columns]"
            ]
          },
          "metadata": {
            "tags": []
          },
          "execution_count": 10
        }
      ]
    },
    {
      "cell_type": "markdown",
      "metadata": {
        "id": "Pf3T2DVxKguF"
      },
      "source": [
        "check the number of entries that don't have information correctly added. These information need to be added manually:"
      ]
    },
    {
      "cell_type": "code",
      "metadata": {
        "colab": {
          "base_uri": "https://localhost:8080/"
        },
        "id": "8KnQpOlT6M-2",
        "outputId": "5bc13a58-445b-4b03-8865-f26dab8b91ea"
      },
      "source": [
        "count = 0\n",
        "for i in range(len(df['size'])):\n",
        "  if (df['size'][i] == ''):\n",
        "    count += 1\n",
        "count"
      ],
      "execution_count": null,
      "outputs": [
        {
          "output_type": "execute_result",
          "data": {
            "text/plain": [
              "27"
            ]
          },
          "metadata": {
            "tags": []
          },
          "execution_count": 198
        }
      ]
    },
    {
      "cell_type": "markdown",
      "metadata": {
        "id": "xA7L7KzFK2-Z"
      },
      "source": [
        "Save to dataframe to the original csv file:"
      ]
    },
    {
      "cell_type": "code",
      "metadata": {
        "id": "HWcvWQkPEaUN"
      },
      "source": [
        "df.to_csv('games_info.csv', index=False)"
      ],
      "execution_count": null,
      "outputs": []
    },
    {
      "cell_type": "markdown",
      "metadata": {
        "id": "EFCeJk1oIiFZ"
      },
      "source": [
        "# user ratings dataset"
      ]
    },
    {
      "cell_type": "code",
      "metadata": {
        "id": "a4uKsYWE9CKc"
      },
      "source": [
        "df = pandas.read_csv('drive/MyDrive/games_info.csv')"
      ],
      "execution_count": 12,
      "outputs": []
    },
    {
      "cell_type": "markdown",
      "metadata": {
        "id": "qboTjyqKLClU"
      },
      "source": [
        "Manipulating the links from games info dataset to make it work with metacritic links"
      ]
    },
    {
      "cell_type": "code",
      "metadata": {
        "id": "4QE4viS0O6gu"
      },
      "source": [
        "links = df['Links']\n",
        "links = links.values.tolist()\n",
        "links = [s[34:] for s in links]\n",
        "links = [s.lower() for s in links]\n",
        "links = ['https://www.metacritic.com/game/playstation-4/'+s+'/user-reviews?sort-by=most-helpful&num_items=100' for s in links]"
      ],
      "execution_count": null,
      "outputs": []
    },
    {
      "cell_type": "markdown",
      "metadata": {
        "id": "0M3qjBYkLVV0"
      },
      "source": [
        "Get the pages we need from metacritic:"
      ]
    },
    {
      "cell_type": "code",
      "metadata": {
        "id": "_tZdvOTyS2qo"
      },
      "source": [
        "pages = []\n",
        "userAgent = {'User-agent': 'Mozilla/5.0'}\n",
        "for link in links:\n",
        "  response = requests.get(link, headers=userAgent)\n",
        "  page = response.content.decode()\n",
        "  pages.append(page)\n",
        "  time.sleep(4)"
      ],
      "execution_count": null,
      "outputs": []
    },
    {
      "cell_type": "markdown",
      "metadata": {
        "id": "BhRTMcxULcAQ"
      },
      "source": [
        "Check for the number of invalid responses. These entries does not have the correct link for metacritcs, so we need to fix these links manually."
      ]
    },
    {
      "cell_type": "code",
      "metadata": {
        "id": "exLG9Ynl_AZJ",
        "colab": {
          "base_uri": "https://localhost:8080/"
        },
        "outputId": "10c48988-cfa9-4838-fb91-63a1a6a81232"
      },
      "source": [
        "invalids = []\n",
        "for i in range(len(pages)):\n",
        "  not_found = re.findall('404 Page Not Found', pages[i])\n",
        "  if len(not_found) != 0:\n",
        "    invalids.append(i)\n",
        "len(invalids)"
      ],
      "execution_count": null,
      "outputs": [
        {
          "output_type": "execute_result",
          "data": {
            "text/plain": [
              "571"
            ]
          },
          "metadata": {
            "tags": []
          },
          "execution_count": 7
        }
      ]
    },
    {
      "cell_type": "markdown",
      "metadata": {
        "id": "bpcJy3uALxLv"
      },
      "source": [
        "Save the pages for any use in the future:"
      ]
    },
    {
      "cell_type": "code",
      "metadata": {
        "id": "BsEuC6z4BFJB"
      },
      "source": [
        "pickle.dump(pages, open('drive/MyDrive/pages.txt', 'wb'))"
      ],
      "execution_count": null,
      "outputs": []
    },
    {
      "cell_type": "code",
      "metadata": {
        "id": "V9c-sube3hZk"
      },
      "source": [
        "pages = pickle.load(open('drive/MyDrive/pages.txt', 'rb'))"
      ],
      "execution_count": 14,
      "outputs": []
    },
    {
      "cell_type": "markdown",
      "metadata": {
        "id": "P10gUUmbMBs0"
      },
      "source": [
        "Reading the manually collected links and identify the subset that should actually be fixed. Then get the pages from metacritic:"
      ]
    },
    {
      "cell_type": "code",
      "metadata": {
        "id": "6MP1GlOZ3-tY"
      },
      "source": [
        "df_i = pandas.read_csv('invalids.csv')"
      ],
      "execution_count": null,
      "outputs": []
    },
    {
      "cell_type": "code",
      "metadata": {
        "colab": {
          "base_uri": "https://localhost:8080/"
        },
        "id": "RA0W8NGV4Sz8",
        "outputId": "82951024-1e3d-40db-f7a4-942d182af801"
      },
      "source": [
        "invalids_all = df_i.values.tolist()\n",
        "invalids_fix = []\n",
        "for pair in invalids_all:\n",
        "  if pair[1][:5] == 'https':\n",
        "    pair[1] = pair[1] + '/user-reviews?sort-by=most-helpful&num_items=100'\n",
        "    invalids_fix.append(pair)\n",
        "len(invalids_fix)"
      ],
      "execution_count": null,
      "outputs": [
        {
          "output_type": "execute_result",
          "data": {
            "text/plain": [
              "216"
            ]
          },
          "metadata": {
            "tags": []
          },
          "execution_count": 6
        }
      ]
    },
    {
      "cell_type": "code",
      "metadata": {
        "id": "wqia-Na3-EKG"
      },
      "source": [
        "userAgent = {'User-agent': 'Mozilla/5.0'}\n",
        "for pair in invalids_fix:\n",
        "  response = requests.get(pair[1], headers=userAgent)\n",
        "  page = response.content.decode()\n",
        "  pages[pair[0]] = page\n",
        "  time.sleep(4)"
      ],
      "execution_count": null,
      "outputs": []
    },
    {
      "cell_type": "markdown",
      "metadata": {
        "id": "cc8uFQw6MiCy"
      },
      "source": [
        "Some initial tests for parsing information from one page and get the number of games with no user ratings:"
      ]
    },
    {
      "cell_type": "code",
      "metadata": {
        "id": "cUpHh-A_mhIG",
        "colab": {
          "base_uri": "https://localhost:8080/"
        },
        "outputId": "b6b9b4a6-df6c-49c9-8569-4f3403f94624"
      },
      "source": [
        "user_ratings = re.findall('<a href=\"/user/.{1,100}</a>\\n.{1,200}</div>\\n\\n.{1,200}\\n.{1,200}</div>\\n.{1,100}\\n.{1,200}\\n.{1,200}\\n.{1,100}\">.{1,2}</div>\\n\\n', pages[1147])\n",
        "user_ratings"
      ],
      "execution_count": 16,
      "outputs": [
        {
          "output_type": "execute_result",
          "data": {
            "text/plain": [
              "['<a href=\"/user/mrvertigo89\">mrvertigo89</a>\\n                                                                                                                                </div>\\n\\n                                                                                    <div class=\"date\">Mar 24, 2019</div>\\n                                                                            </div>\\n                                    \\n                                    <div class=\"review_grade\">\\n                                                \\n<div class=\"metascore_w user medium game mixed indiv\">7</div>\\n\\n',\n",
              " '<a href=\"/user/StrangeAeons\">StrangeAeons</a>\\n                                                                                                                                </div>\\n\\n                                                                                    <div class=\"date\">Mar 25, 2019</div>\\n                                                                            </div>\\n                                    \\n                                    <div class=\"review_grade\">\\n                                                \\n<div class=\"metascore_w user medium game mixed indiv\">5</div>\\n\\n',\n",
              " '<a href=\"/user/Przemun1304\">Przemun1304</a>\\n                                                                                                                                </div>\\n\\n                                                                                    <div class=\"date\">Mar 22, 2019</div>\\n                                                                            </div>\\n                                    \\n                                    <div class=\"review_grade\">\\n                                                \\n<div class=\"metascore_w user medium game positive indiv perfect\">10</div>\\n\\n',\n",
              " '<a href=\"/user/Mooltissm\">Mooltissm</a>\\n                                                                                                                                </div>\\n\\n                                                                                    <div class=\"date\">Mar 22, 2019</div>\\n                                                                            </div>\\n                                    \\n                                    <div class=\"review_grade\">\\n                                                \\n<div class=\"metascore_w user medium game positive indiv perfect\">10</div>\\n\\n',\n",
              " '<a href=\"/user/AnRui\">AnRui</a>\\n                                                                                                                                </div>\\n\\n                                                                                    <div class=\"date\">Mar 22, 2019</div>\\n                                                                            </div>\\n                                    \\n                                    <div class=\"review_grade\">\\n                                                \\n<div class=\"metascore_w user medium game positive indiv perfect\">10</div>\\n\\n',\n",
              " '<a href=\"/user/rocco30\">rocco30</a>\\n                                                                                                                                </div>\\n\\n                                                                                    <div class=\"date\">Mar 22, 2019</div>\\n                                                                            </div>\\n                                    \\n                                    <div class=\"review_grade\">\\n                                                \\n<div class=\"metascore_w user medium game positive indiv perfect\">10</div>\\n\\n',\n",
              " '<a href=\"/user/Dead-Style\">Dead-Style</a>\\n                                                                                                                                </div>\\n\\n                                                                                    <div class=\"date\">Mar 22, 2019</div>\\n                                                                            </div>\\n                                    \\n                                    <div class=\"review_grade\">\\n                                                \\n<div class=\"metascore_w user medium game positive indiv perfect\">10</div>\\n\\n',\n",
              " '<a href=\"/user/karlfranz85\">karlfranz85</a>\\n                                                                                                                                </div>\\n\\n                                                                                    <div class=\"date\">Mar 22, 2019</div>\\n                                                                            </div>\\n                                    \\n                                    <div class=\"review_grade\">\\n                                                \\n<div class=\"metascore_w user medium game positive indiv perfect\">10</div>\\n\\n',\n",
              " '<a href=\"/user/Kunray\">Kunray</a>\\n                                                                                                                                </div>\\n\\n                                                                                    <div class=\"date\">Mar 22, 2019</div>\\n                                                                            </div>\\n                                    \\n                                    <div class=\"review_grade\">\\n                                                \\n<div class=\"metascore_w user medium game positive indiv perfect\">10</div>\\n\\n',\n",
              " '<a href=\"/user/Flypaper\">Flypaper</a>\\n                                                                                                                                </div>\\n\\n                                                                                    <div class=\"date\">Mar 25, 2019</div>\\n                                                                            </div>\\n                                    \\n                                    <div class=\"review_grade\">\\n                                                \\n<div class=\"metascore_w user medium game mixed indiv\">6</div>\\n\\n',\n",
              " '<a href=\"/user/kunakov\">kunakov</a>\\n                                                                                                                                </div>\\n\\n                                                                                    <div class=\"date\">Mar 22, 2019</div>\\n                                                                            </div>\\n                                    \\n                                    <div class=\"review_grade\">\\n                                                \\n<div class=\"metascore_w user medium game negative indiv\">2</div>\\n\\n',\n",
              " '<a href=\"/user/Hikage\">Hikage</a>\\n                                                                                                                                </div>\\n\\n                                                                                    <div class=\"date\">Mar 23, 2019</div>\\n                                                                            </div>\\n                                    \\n                                    <div class=\"review_grade\">\\n                                                \\n<div class=\"metascore_w user medium game negative indiv\">4</div>\\n\\n',\n",
              " '<a href=\"/user/TheVJ\">TheVJ</a>\\n                                                                                                                                </div>\\n\\n                                                                                    <div class=\"date\">Mar 22, 2019</div>\\n                                                                            </div>\\n                                    \\n                                    <div class=\"review_grade\">\\n                                                \\n<div class=\"metascore_w user medium game mixed indiv\">6</div>\\n\\n',\n",
              " '<a href=\"/user/ZeroPr0xy\">ZeroPr0xy</a>\\n                                                                                                                                </div>\\n\\n                                                                                    <div class=\"date\">Mar 22, 2019</div>\\n                                                                            </div>\\n                                    \\n                                    <div class=\"review_grade\">\\n                                                \\n<div class=\"metascore_w user medium game negative indiv\">4</div>\\n\\n',\n",
              " '<a href=\"/user/Oldsk00lObs\">Oldsk00lObs</a>\\n                                                                                                                                </div>\\n\\n                                                                                    <div class=\"date\">Mar 23, 2019</div>\\n                                                                            </div>\\n                                    \\n                                    <div class=\"review_grade\">\\n                                                \\n<div class=\"metascore_w user medium game negative indiv\">3</div>\\n\\n',\n",
              " '<a href=\"/user/shiftyman\">shiftyman</a>\\n                                                                                                                                </div>\\n\\n                                                                                    <div class=\"date\">Mar 24, 2019</div>\\n                                                                            </div>\\n                                    \\n                                    <div class=\"review_grade\">\\n                                                \\n<div class=\"metascore_w user medium game negative indiv\">1</div>\\n\\n',\n",
              " '<a href=\"/user/BadMad\">BadMad</a>\\n                                                                                                                                </div>\\n\\n                                                                                    <div class=\"date\">Mar 25, 2019</div>\\n                                                                            </div>\\n                                    \\n                                    <div class=\"review_grade\">\\n                                                \\n<div class=\"metascore_w user medium game negative indiv\">0</div>\\n\\n',\n",
              " '<a href=\"/user/dchoover1987\">dchoover1987</a>\\n                                                                                                                                </div>\\n\\n                                                                                    <div class=\"date\">Mar 22, 2019</div>\\n                                                                            </div>\\n                                    \\n                                    <div class=\"review_grade\">\\n                                                \\n<div class=\"metascore_w user medium game negative indiv\">4</div>\\n\\n',\n",
              " '<a href=\"/user/Gette\">Gette</a>\\n                                                                                                                                </div>\\n\\n                                                                                    <div class=\"date\">Mar 25, 2019</div>\\n                                                                            </div>\\n                                    \\n                                    <div class=\"review_grade\">\\n                                                \\n<div class=\"metascore_w user medium game negative indiv\">2</div>\\n\\n',\n",
              " '<a href=\"/user/honghs91\">honghs91</a>\\n                                                                                                                                </div>\\n\\n                                                                                    <div class=\"date\">Mar 22, 2019</div>\\n                                                                            </div>\\n                                    \\n                                    <div class=\"review_grade\">\\n                                                \\n<div class=\"metascore_w user medium game negative indiv\">1</div>\\n\\n',\n",
              " '<a href=\"/user/WYKYDTRON\">WYKYDTRON</a>\\n                                                                                                                                </div>\\n\\n                                                                                    <div class=\"date\">Mar 24, 2019</div>\\n                                                                            </div>\\n                                    \\n                                    <div class=\"review_grade\">\\n                                                \\n<div class=\"metascore_w user medium game negative indiv\">4</div>\\n\\n',\n",
              " '<a href=\"/user/Mystouille\">Mystouille</a>\\n                                                                                                                                </div>\\n\\n                                                                                    <div class=\"date\">Mar 23, 2019</div>\\n                                                                            </div>\\n                                    \\n                                    <div class=\"review_grade\">\\n                                                \\n<div class=\"metascore_w user medium game negative indiv\">1</div>\\n\\n',\n",
              " '<a href=\"/user/mikepatyaev\">mikepatyaev</a>\\n                                                                                                                                </div>\\n\\n                                                                                    <div class=\"date\">Apr 30, 2019</div>\\n                                                                            </div>\\n                                    \\n                                    <div class=\"review_grade\">\\n                                                \\n<div class=\"metascore_w user medium game mixed indiv\">6</div>\\n\\n',\n",
              " '<a href=\"/user/ale12\">ale12</a>\\n                                                                                                                                </div>\\n\\n                                                                                    <div class=\"date\">Mar 22, 2019</div>\\n                                                                            </div>\\n                                    \\n                                    <div class=\"review_grade\">\\n                                                \\n<div class=\"metascore_w user medium game negative indiv\">1</div>\\n\\n',\n",
              " '<a href=\"/user/MuchGames\">MuchGames</a>\\n                                                                                                                                </div>\\n\\n                                                                                    <div class=\"date\">Mar 22, 2019</div>\\n                                                                            </div>\\n                                    \\n                                    <div class=\"review_grade\">\\n                                                \\n<div class=\"metascore_w user medium game negative indiv\">0</div>\\n\\n',\n",
              " '<a href=\"/user/guigr\">guigr</a>\\n                                                                                                                                </div>\\n\\n                                                                                    <div class=\"date\">Dec  2, 2019</div>\\n                                                                            </div>\\n                                    \\n                                    <div class=\"review_grade\">\\n                                                \\n<div class=\"metascore_w user medium game positive indiv perfect\">10</div>\\n\\n',\n",
              " '<a href=\"/user/Jakahagar\">Jakahagar</a>\\n                                                                                                                                </div>\\n\\n                                                                                    <div class=\"date\">Aug 20, 2020</div>\\n                                                                            </div>\\n                                    \\n                                    <div class=\"review_grade\">\\n                                                \\n<div class=\"metascore_w user medium game positive indiv perfect\">10</div>\\n\\n',\n",
              " '<a href=\"/user/Verbal_cz563\">Verbal_cz563</a>\\n                                                                                                                                </div>\\n\\n                                                                                    <div class=\"date\">Oct 20, 2020</div>\\n                                                                            </div>\\n                                    \\n                                    <div class=\"review_grade\">\\n                                                \\n<div class=\"metascore_w user medium game positive indiv perfect\">10</div>\\n\\n',\n",
              " '<a href=\"/user/Croly\">Croly</a>\\n                                                                                                                                </div>\\n\\n                                                                                    <div class=\"date\">Jul  3, 2020</div>\\n                                                                            </div>\\n                                    \\n                                    <div class=\"review_grade\">\\n                                                \\n<div class=\"metascore_w user medium game positive indiv perfect\">10</div>\\n\\n',\n",
              " '<a href=\"/user/IMishev\">IMishev</a>\\n                                                                                                                                </div>\\n\\n                                                                                    <div class=\"date\">Jul  3, 2020</div>\\n                                                                            </div>\\n                                    \\n                                    <div class=\"review_grade\">\\n                                                \\n<div class=\"metascore_w user medium game positive indiv perfect\">10</div>\\n\\n',\n",
              " '<a href=\"/user/sebasra\">sebasra</a>\\n                                                                                                                                </div>\\n\\n                                                                                    <div class=\"date\">Jul  6, 2020</div>\\n                                                                            </div>\\n                                    \\n                                    <div class=\"review_grade\">\\n                                                \\n<div class=\"metascore_w user medium game positive indiv perfect\">10</div>\\n\\n',\n",
              " '<a href=\"/user/TREV0mortis\">TREV0mortis</a>\\n                                                                                                                                </div>\\n\\n                                                                                    <div class=\"date\">Jul 18, 2020</div>\\n                                                                            </div>\\n                                    \\n                                    <div class=\"review_grade\">\\n                                                \\n<div class=\"metascore_w user medium game positive indiv perfect\">10</div>\\n\\n',\n",
              " '<a href=\"/user/check_this_kid\">check_this_kid</a>\\n                                                                                                                                </div>\\n\\n                                                                                    <div class=\"date\">Jul 20, 2020</div>\\n                                                                            </div>\\n                                    \\n                                    <div class=\"review_grade\">\\n                                                \\n<div class=\"metascore_w user medium game positive indiv perfect\">10</div>\\n\\n',\n",
              " '<a href=\"/user/Airo_Soho\">Airo_Soho</a>\\n                                                                                                                                </div>\\n\\n                                                                                    <div class=\"date\">Jul 20, 2020</div>\\n                                                                            </div>\\n                                    \\n                                    <div class=\"review_grade\">\\n                                                \\n<div class=\"metascore_w user medium game positive indiv perfect\">10</div>\\n\\n',\n",
              " '<a href=\"/user/GamerNotGood\">GamerNotGood</a>\\n                                                                                                                                </div>\\n\\n                                                                                    <div class=\"date\">Jul 22, 2020</div>\\n                                                                            </div>\\n                                    \\n                                    <div class=\"review_grade\">\\n                                                \\n<div class=\"metascore_w user medium game positive indiv perfect\">10</div>\\n\\n',\n",
              " '<a href=\"/user/Nilknarff\">Nilknarff</a>\\n                                                                                                                                </div>\\n\\n                                                                                    <div class=\"date\">Jul 22, 2020</div>\\n                                                                            </div>\\n                                    \\n                                    <div class=\"review_grade\">\\n                                                \\n<div class=\"metascore_w user medium game positive indiv perfect\">10</div>\\n\\n',\n",
              " '<a href=\"/user/ViniciusEXC\">ViniciusEXC</a>\\n                                                                                                                                </div>\\n\\n                                                                                    <div class=\"date\">Jul 23, 2020</div>\\n                                                                            </div>\\n                                    \\n                                    <div class=\"review_grade\">\\n                                                \\n<div class=\"metascore_w user medium game positive indiv perfect\">10</div>\\n\\n',\n",
              " '<a href=\"/user/MilkomedaMusic\">MilkomedaMusic</a>\\n                                                                                                                                </div>\\n\\n                                                                                    <div class=\"date\">Jul 23, 2020</div>\\n                                                                            </div>\\n                                    \\n                                    <div class=\"review_grade\">\\n                                                \\n<div class=\"metascore_w user medium game positive indiv perfect\">10</div>\\n\\n',\n",
              " '<a href=\"/user/SteamedHams\">SteamedHams</a>\\n                                                                                                                                </div>\\n\\n                                                                                    <div class=\"date\">Jul 24, 2020</div>\\n                                                                            </div>\\n                                    \\n                                    <div class=\"review_grade\">\\n                                                \\n<div class=\"metascore_w user medium game positive indiv perfect\">10</div>\\n\\n',\n",
              " '<a href=\"/user/Mclovin69\">Mclovin69</a>\\n                                                                                                                                </div>\\n\\n                                                                                    <div class=\"date\">Jul 24, 2020</div>\\n                                                                            </div>\\n                                    \\n                                    <div class=\"review_grade\">\\n                                                \\n<div class=\"metascore_w user medium game positive indiv perfect\">10</div>\\n\\n',\n",
              " '<a href=\"/user/YoghurtDragon\">YoghurtDragon</a>\\n                                                                                                                                </div>\\n\\n                                                                                    <div class=\"date\">Jul 25, 2020</div>\\n                                                                            </div>\\n                                    \\n                                    <div class=\"review_grade\">\\n                                                \\n<div class=\"metascore_w user medium game positive indiv perfect\">10</div>\\n\\n',\n",
              " '<a href=\"/user/izzum\">izzum</a>\\n                                                                                                                                </div>\\n\\n                                                                                    <div class=\"date\">Jul 26, 2020</div>\\n                                                                            </div>\\n                                    \\n                                    <div class=\"review_grade\">\\n                                                \\n<div class=\"metascore_w user medium game positive indiv perfect\">10</div>\\n\\n',\n",
              " '<a href=\"/user/Kant3ro\">Kant3ro</a>\\n                                                                                                                                </div>\\n\\n                                                                                    <div class=\"date\">Jul 26, 2020</div>\\n                                                                            </div>\\n                                    \\n                                    <div class=\"review_grade\">\\n                                                \\n<div class=\"metascore_w user medium game positive indiv perfect\">10</div>\\n\\n',\n",
              " '<a href=\"/user/terribad69\">terribad69</a>\\n                                                                                                                                </div>\\n\\n                                                                                    <div class=\"date\">Jul 28, 2020</div>\\n                                                                            </div>\\n                                    \\n                                    <div class=\"review_grade\">\\n                                                \\n<div class=\"metascore_w user medium game positive indiv perfect\">10</div>\\n\\n',\n",
              " '<a href=\"/user/HomeroomTeacher\">HomeroomTeacher</a>\\n                                                                                                                                </div>\\n\\n                                                                                    <div class=\"date\">Jul 28, 2020</div>\\n                                                                            </div>\\n                                    \\n                                    <div class=\"review_grade\">\\n                                                \\n<div class=\"metascore_w user medium game positive indiv perfect\">10</div>\\n\\n',\n",
              " '<a href=\"/user/lordjovac\">lordjovac</a>\\n                                                                                                                                </div>\\n\\n                                                                                    <div class=\"date\">Jul 31, 2020</div>\\n                                                                            </div>\\n                                    \\n                                    <div class=\"review_grade\">\\n                                                \\n<div class=\"metascore_w user medium game positive indiv perfect\">10</div>\\n\\n',\n",
              " '<a href=\"/user/Ulises_N\">Ulises_N</a>\\n                                                                                                                                </div>\\n\\n                                                                                    <div class=\"date\">Aug  1, 2020</div>\\n                                                                            </div>\\n                                    \\n                                    <div class=\"review_grade\">\\n                                                \\n<div class=\"metascore_w user medium game positive indiv perfect\">10</div>\\n\\n',\n",
              " '<a href=\"/user/Rynana\">Rynana</a>\\n                                                                                                                                </div>\\n\\n                                                                                    <div class=\"date\">Aug  3, 2020</div>\\n                                                                            </div>\\n                                    \\n                                    <div class=\"review_grade\">\\n                                                \\n<div class=\"metascore_w user medium game positive indiv perfect\">10</div>\\n\\n',\n",
              " '<a href=\"/user/Erfan11\">Erfan11</a>\\n                                                                                                                                </div>\\n\\n                                                                                    <div class=\"date\">Aug  3, 2020</div>\\n                                                                            </div>\\n                                    \\n                                    <div class=\"review_grade\">\\n                                                \\n<div class=\"metascore_w user medium game positive indiv perfect\">10</div>\\n\\n',\n",
              " '<a href=\"/user/Markolius\">Markolius</a>\\n                                                                                                                                </div>\\n\\n                                                                                    <div class=\"date\">Aug  8, 2020</div>\\n                                                                            </div>\\n                                    \\n                                    <div class=\"review_grade\">\\n                                                \\n<div class=\"metascore_w user medium game positive indiv perfect\">10</div>\\n\\n',\n",
              " '<a href=\"/user/foxbel\">foxbel</a>\\n                                                                                                                                </div>\\n\\n                                                                                    <div class=\"date\">Aug 13, 2020</div>\\n                                                                            </div>\\n                                    \\n                                    <div class=\"review_grade\">\\n                                                \\n<div class=\"metascore_w user medium game positive indiv perfect\">10</div>\\n\\n',\n",
              " '<a href=\"/user/Svinoed\">Svinoed</a>\\n                                                                                                                                </div>\\n\\n                                                                                    <div class=\"date\">Aug 22, 2020</div>\\n                                                                            </div>\\n                                    \\n                                    <div class=\"review_grade\">\\n                                                \\n<div class=\"metascore_w user medium game positive indiv perfect\">10</div>\\n\\n',\n",
              " '<a href=\"/user/groyfit\">groyfit</a>\\n                                                                                                                                </div>\\n\\n                                                                                    <div class=\"date\">Aug 24, 2020</div>\\n                                                                            </div>\\n                                    \\n                                    <div class=\"review_grade\">\\n                                                \\n<div class=\"metascore_w user medium game positive indiv perfect\">10</div>\\n\\n',\n",
              " '<a href=\"/user/Josuerx\">Josuerx</a>\\n                                                                                                                                </div>\\n\\n                                                                                    <div class=\"date\">Sep  1, 2020</div>\\n                                                                            </div>\\n                                    \\n                                    <div class=\"review_grade\">\\n                                                \\n<div class=\"metascore_w user medium game positive indiv perfect\">10</div>\\n\\n',\n",
              " '<a href=\"/user/Markusjayar\">Markusjayar</a>\\n                                                                                                                                </div>\\n\\n                                                                                    <div class=\"date\">Sep 19, 2020</div>\\n                                                                            </div>\\n                                    \\n                                    <div class=\"review_grade\">\\n                                                \\n<div class=\"metascore_w user medium game positive indiv perfect\">10</div>\\n\\n',\n",
              " '<a href=\"/user/Danikosman\">Danikosman</a>\\n                                                                                                                                </div>\\n\\n                                                                                    <div class=\"date\">Sep 27, 2020</div>\\n                                                                            </div>\\n                                    \\n                                    <div class=\"review_grade\">\\n                                                \\n<div class=\"metascore_w user medium game positive indiv perfect\">10</div>\\n\\n',\n",
              " '<a href=\"/user/Nyber\">Nyber</a>\\n                                                                                                                                </div>\\n\\n                                                                                    <div class=\"date\">Sep 29, 2020</div>\\n                                                                            </div>\\n                                    \\n                                    <div class=\"review_grade\">\\n                                                \\n<div class=\"metascore_w user medium game positive indiv perfect\">10</div>\\n\\n',\n",
              " '<a href=\"/user/Linkdani20\">Linkdani20</a>\\n                                                                                                                                </div>\\n\\n                                                                                    <div class=\"date\">Oct  2, 2020</div>\\n                                                                            </div>\\n                                    \\n                                    <div class=\"review_grade\">\\n                                                \\n<div class=\"metascore_w user medium game positive indiv perfect\">10</div>\\n\\n',\n",
              " '<a href=\"/user/Victari0n\">Victari0n</a>\\n                                                                                                                                </div>\\n\\n                                                                                    <div class=\"date\">Oct 10, 2020</div>\\n                                                                            </div>\\n                                    \\n                                    <div class=\"review_grade\">\\n                                                \\n<div class=\"metascore_w user medium game positive indiv perfect\">10</div>\\n\\n',\n",
              " '<a href=\"/user/gai_kaligula\">gai_kaligula</a>\\n                                                                                                                                </div>\\n\\n                                                                                    <div class=\"date\">Oct 12, 2020</div>\\n                                                                            </div>\\n                                    \\n                                    <div class=\"review_grade\">\\n                                                \\n<div class=\"metascore_w user medium game positive indiv\">9</div>\\n\\n',\n",
              " '<a href=\"/user/danimart\">danimart</a>\\n                                                                                                                                </div>\\n\\n                                                                                    <div class=\"date\">Oct 14, 2020</div>\\n                                                                            </div>\\n                                    \\n                                    <div class=\"review_grade\">\\n                                                \\n<div class=\"metascore_w user medium game positive indiv\">9</div>\\n\\n',\n",
              " '<a href=\"/user/Lekestue\">Lekestue</a>\\n                                                                                                                                </div>\\n\\n                                                                                    <div class=\"date\">Oct 14, 2020</div>\\n                                                                            </div>\\n                                    \\n                                    <div class=\"review_grade\">\\n                                                \\n<div class=\"metascore_w user medium game positive indiv\">9</div>\\n\\n',\n",
              " '<a href=\"/user/zxd56nhd\">zxd56nhd</a>\\n                                                                                                                                </div>\\n\\n                                                                                    <div class=\"date\">Oct 16, 2020</div>\\n                                                                            </div>\\n                                    \\n                                    <div class=\"review_grade\">\\n                                                \\n<div class=\"metascore_w user medium game positive indiv\">9</div>\\n\\n',\n",
              " '<a href=\"/user/mxnu54\">mxnu54</a>\\n                                                                                                                                </div>\\n\\n                                                                                    <div class=\"date\">Oct 27, 2020</div>\\n                                                                            </div>\\n                                    \\n                                    <div class=\"review_grade\">\\n                                                \\n<div class=\"metascore_w user medium game positive indiv perfect\">10</div>\\n\\n',\n",
              " '<a href=\"/user/XV_\">XV_</a>\\n                                                                                                                                </div>\\n\\n                                                                                    <div class=\"date\">Apr 18, 2019</div>\\n                                                                            </div>\\n                                    \\n                                    <div class=\"review_grade\">\\n                                                \\n<div class=\"metascore_w user medium game positive indiv\">9</div>\\n\\n',\n",
              " '<a href=\"/user/PuppetOfFate\">PuppetOfFate</a>\\n                                                                                                                                </div>\\n\\n                                                                                    <div class=\"date\">Apr 23, 2019</div>\\n                                                                            </div>\\n                                    \\n                                    <div class=\"review_grade\">\\n                                                \\n<div class=\"metascore_w user medium game positive indiv\">9</div>\\n\\n',\n",
              " '<a href=\"/user/lowkee33\">lowkee33</a>\\n                                                                                                                                </div>\\n\\n                                                                                    <div class=\"date\">Apr 26, 2019</div>\\n                                                                            </div>\\n                                    \\n                                    <div class=\"review_grade\">\\n                                                \\n<div class=\"metascore_w user medium game positive indiv\">9</div>\\n\\n',\n",
              " '<a href=\"/user/Necrosophist\">Necrosophist</a>\\n                                                                                                                                </div>\\n\\n                                                                                    <div class=\"date\">May  2, 2019</div>\\n                                                                            </div>\\n                                    \\n                                    <div class=\"review_grade\">\\n                                                \\n<div class=\"metascore_w user medium game positive indiv\">9</div>\\n\\n',\n",
              " '<a href=\"/user/Eneas_frazao\">Eneas_frazao</a>\\n                                                                                                                                </div>\\n\\n                                                                                    <div class=\"date\">May  7, 2019</div>\\n                                                                            </div>\\n                                    \\n                                    <div class=\"review_grade\">\\n                                                \\n<div class=\"metascore_w user medium game positive indiv\">9</div>\\n\\n',\n",
              " '<a href=\"/user/Honest_Xavi17\">Honest_Xavi17</a>\\n                                                                                                                                </div>\\n\\n                                                                                    <div class=\"date\">Apr  3, 2020</div>\\n                                                                            </div>\\n                                    \\n                                    <div class=\"review_grade\">\\n                                                \\n<div class=\"metascore_w user medium game positive indiv\">9</div>\\n\\n',\n",
              " '<a href=\"/user/ferncai\">ferncai</a>\\n                                                                                                                                </div>\\n\\n                                                                                    <div class=\"date\">Jun 13, 2019</div>\\n                                                                            </div>\\n                                    \\n                                    <div class=\"review_grade\">\\n                                                \\n<div class=\"metascore_w user medium game positive indiv\">9</div>\\n\\n',\n",
              " '<a href=\"/user/GM23\">GM23</a>\\n                                                                                                                                </div>\\n\\n                                                                                    <div class=\"date\">Jul 29, 2019</div>\\n                                                                            </div>\\n                                    \\n                                    <div class=\"review_grade\">\\n                                                \\n<div class=\"metascore_w user medium game positive indiv\">9</div>\\n\\n',\n",
              " '<a href=\"/user/yusufklks\">yusufklks</a>\\n                                                                                                                                </div>\\n\\n                                                                                    <div class=\"date\">Aug  4, 2019</div>\\n                                                                            </div>\\n                                    \\n                                    <div class=\"review_grade\">\\n                                                \\n<div class=\"metascore_w user medium game positive indiv perfect\">10</div>\\n\\n',\n",
              " '<a href=\"/user/C4rn4ge\">C4rn4ge</a>\\n                                                                                                                                </div>\\n\\n                                                                                    <div class=\"date\">Aug 22, 2019</div>\\n                                                                            </div>\\n                                    \\n                                    <div class=\"review_grade\">\\n                                                \\n<div class=\"metascore_w user medium game positive indiv\">9</div>\\n\\n',\n",
              " '<a href=\"/user/Korihitto\">Korihitto</a>\\n                                                                                                                                </div>\\n\\n                                                                                    <div class=\"date\">Sep  4, 2019</div>\\n                                                                            </div>\\n                                    \\n                                    <div class=\"review_grade\">\\n                                                \\n<div class=\"metascore_w user medium game positive indiv\">9</div>\\n\\n',\n",
              " '<a href=\"/user/The_BlueRose\">The_BlueRose</a>\\n                                                                                                                                </div>\\n\\n                                                                                    <div class=\"date\">Sep 14, 2019</div>\\n                                                                            </div>\\n                                    \\n                                    <div class=\"review_grade\">\\n                                                \\n<div class=\"metascore_w user medium game positive indiv\">9</div>\\n\\n',\n",
              " '<a href=\"/user/VTL\">VTL</a>\\n                                                                                                                                </div>\\n\\n                                                                                    <div class=\"date\">Sep 24, 2019</div>\\n                                                                            </div>\\n                                    \\n                                    <div class=\"review_grade\">\\n                                                \\n<div class=\"metascore_w user medium game positive indiv\">9</div>\\n\\n',\n",
              " '<a href=\"/user/ShiSharkU\">ShiSharkU</a>\\n                                                                                                                                </div>\\n\\n                                                                                    <div class=\"date\">Oct  2, 2019</div>\\n                                                                            </div>\\n                                    \\n                                    <div class=\"review_grade\">\\n                                                \\n<div class=\"metascore_w user medium game positive indiv\">9</div>\\n\\n',\n",
              " '<a href=\"/user/werq34ac\">werq34ac</a>\\n                                                                                                                                </div>\\n\\n                                                                                    <div class=\"date\">Sep 28, 2019</div>\\n                                                                            </div>\\n                                    \\n                                    <div class=\"review_grade\">\\n                                                \\n<div class=\"metascore_w user medium game positive indiv\">9</div>\\n\\n',\n",
              " '<a href=\"/user/Azoputamadrelol\">Azoputamadrelol</a>\\n                                                                                                                                </div>\\n\\n                                                                                    <div class=\"date\">Nov 18, 2019</div>\\n                                                                            </div>\\n                                    \\n                                    <div class=\"review_grade\">\\n                                                \\n<div class=\"metascore_w user medium game positive indiv\">9</div>\\n\\n',\n",
              " '<a href=\"/user/SideSlip\">SideSlip</a>\\n                                                                                                                                </div>\\n\\n                                                                                    <div class=\"date\">Nov 20, 2019</div>\\n                                                                            </div>\\n                                    \\n                                    <div class=\"review_grade\">\\n                                                \\n<div class=\"metascore_w user medium game positive indiv\">9</div>\\n\\n',\n",
              " '<a href=\"/user/Sephiroth667\">Sephiroth667</a>\\n                                                                                                                                </div>\\n\\n                                                                                    <div class=\"date\">Nov 21, 2019</div>\\n                                                                            </div>\\n                                    \\n                                    <div class=\"review_grade\">\\n                                                \\n<div class=\"metascore_w user medium game positive indiv\">9</div>\\n\\n',\n",
              " '<a href=\"/user/WilliamKotoco\">WilliamKotoco</a>\\n                                                                                                                                </div>\\n\\n                                                                                    <div class=\"date\">Dec  1, 2019</div>\\n                                                                            </div>\\n                                    \\n                                    <div class=\"review_grade\">\\n                                                \\n<div class=\"metascore_w user medium game positive indiv\">9</div>\\n\\n',\n",
              " '<a href=\"/user/MmAaTt\">MmAaTt</a>\\n                                                                                                                                </div>\\n\\n                                                                                    <div class=\"date\">Dec 28, 2019</div>\\n                                                                            </div>\\n                                    \\n                                    <div class=\"review_grade\">\\n                                                \\n<div class=\"metascore_w user medium game positive indiv\">9</div>\\n\\n',\n",
              " '<a href=\"/user/Tomoen\">Tomoen</a>\\n                                                                                                                                </div>\\n\\n                                                                                    <div class=\"date\">Mar 20, 2020</div>\\n                                                                            </div>\\n                                    \\n                                    <div class=\"review_grade\">\\n                                                \\n<div class=\"metascore_w user medium game positive indiv\">9</div>\\n\\n',\n",
              " '<a href=\"/user/raviga747\">raviga747</a>\\n                                                                                                                                </div>\\n\\n                                                                                    <div class=\"date\">Apr  3, 2020</div>\\n                                                                            </div>\\n                                    \\n                                    <div class=\"review_grade\">\\n                                                \\n<div class=\"metascore_w user medium game positive indiv\">9</div>\\n\\n',\n",
              " '<a href=\"/user/lqstuart\">lqstuart</a>\\n                                                                                                                                </div>\\n\\n                                                                                    <div class=\"date\">Apr  5, 2020</div>\\n                                                                            </div>\\n                                    \\n                                    <div class=\"review_grade\">\\n                                                \\n<div class=\"metascore_w user medium game positive indiv\">9</div>\\n\\n',\n",
              " '<a href=\"/user/FuriousAegon\">FuriousAegon</a>\\n                                                                                                                                </div>\\n\\n                                                                                    <div class=\"date\">Apr 10, 2020</div>\\n                                                                            </div>\\n                                    \\n                                    <div class=\"review_grade\">\\n                                                \\n<div class=\"metascore_w user medium game positive indiv\">9</div>\\n\\n',\n",
              " '<a href=\"/user/Revialus\">Revialus</a>\\n                                                                                                                                </div>\\n\\n                                                                                    <div class=\"date\">Apr 16, 2020</div>\\n                                                                            </div>\\n                                    \\n                                    <div class=\"review_grade\">\\n                                                \\n<div class=\"metascore_w user medium game positive indiv\">9</div>\\n\\n',\n",
              " '<a href=\"/user/i_gomes\">i_gomes</a>\\n                                                                                                                                </div>\\n\\n                                                                                    <div class=\"date\">Jun 20, 2020</div>\\n                                                                            </div>\\n                                    \\n                                    <div class=\"review_grade\">\\n                                                \\n<div class=\"metascore_w user medium game positive indiv perfect\">10</div>\\n\\n',\n",
              " '<a href=\"/user/Aspethera\">Aspethera</a>\\n                                                                                                                                </div>\\n\\n                                                                                    <div class=\"date\">Jun 24, 2020</div>\\n                                                                            </div>\\n                                    \\n                                    <div class=\"review_grade\">\\n                                                \\n<div class=\"metascore_w user medium game positive indiv perfect\">10</div>\\n\\n',\n",
              " '<a href=\"/user/kam4atka\">kam4atka</a>\\n                                                                                                                                </div>\\n\\n                                                                                    <div class=\"date\">Jun 27, 2020</div>\\n                                                                            </div>\\n                                    \\n                                    <div class=\"review_grade\">\\n                                                \\n<div class=\"metascore_w user medium game positive indiv perfect\">10</div>\\n\\n',\n",
              " '<a href=\"/user/Baldingsan\">Baldingsan</a>\\n                                                                                                                                </div>\\n\\n                                                                                    <div class=\"date\">Jul 21, 2020</div>\\n                                                                            </div>\\n                                    \\n                                    <div class=\"review_grade\">\\n                                                \\n<div class=\"metascore_w user medium game positive indiv\">9</div>\\n\\n',\n",
              " '<a href=\"/user/Mike_Arhi\">Mike_Arhi</a>\\n                                                                                                                                </div>\\n\\n                                                                                    <div class=\"date\">Jul 24, 2020</div>\\n                                                                            </div>\\n                                    \\n                                    <div class=\"review_grade\">\\n                                                \\n<div class=\"metascore_w user medium game positive indiv\">9</div>\\n\\n',\n",
              " '<a href=\"/user/The_Juk3z\">The_Juk3z</a>\\n                                                                                                                                </div>\\n\\n                                                                                    <div class=\"date\">Jul 24, 2020</div>\\n                                                                            </div>\\n                                    \\n                                    <div class=\"review_grade\">\\n                                                \\n<div class=\"metascore_w user medium game positive indiv\">8</div>\\n\\n',\n",
              " '<a href=\"/user/shaggx83\">shaggx83</a>\\n                                                                                                                                </div>\\n\\n                                                                                    <div class=\"date\">Jul 25, 2020</div>\\n                                                                            </div>\\n                                    \\n                                    <div class=\"review_grade\">\\n                                                \\n<div class=\"metascore_w user medium game positive indiv\">8</div>\\n\\n',\n",
              " '<a href=\"/user/CopperVortex\">CopperVortex</a>\\n                                                                                                                                </div>\\n\\n                                                                                    <div class=\"date\">Jul 25, 2020</div>\\n                                                                            </div>\\n                                    \\n                                    <div class=\"review_grade\">\\n                                                \\n<div class=\"metascore_w user medium game positive indiv\">8</div>\\n\\n',\n",
              " '<a href=\"/user/Madisonross1128\">Madisonross1128</a>\\n                                                                                                                                </div>\\n\\n                                                                                    <div class=\"date\">Jul 26, 2020</div>\\n                                                                            </div>\\n                                    \\n                                    <div class=\"review_grade\">\\n                                                \\n<div class=\"metascore_w user medium game positive indiv\">9</div>\\n\\n',\n",
              " '<a href=\"/user/PhantomWolf\">PhantomWolf</a>\\n                                                                                                                                </div>\\n\\n                                                                                    <div class=\"date\">Jul 29, 2020</div>\\n                                                                            </div>\\n                                    \\n                                    <div class=\"review_grade\">\\n                                                \\n<div class=\"metascore_w user medium game positive indiv\">9</div>\\n\\n',\n",
              " '<a href=\"/user/Keryanie\">Keryanie</a>\\n                                                                                                                                </div>\\n\\n                                                                                    <div class=\"date\">Aug  5, 2020</div>\\n                                                                            </div>\\n                                    \\n                                    <div class=\"review_grade\">\\n                                                \\n<div class=\"metascore_w user medium game positive indiv perfect\">10</div>\\n\\n']"
            ]
          },
          "metadata": {
            "tags": []
          },
          "execution_count": 16
        }
      ]
    },
    {
      "cell_type": "code",
      "metadata": {
        "id": "ZBb_XOdPg5OW",
        "colab": {
          "base_uri": "https://localhost:8080/"
        },
        "outputId": "4450a528-b26b-47f6-8f93-e9d33f2daa5a"
      },
      "source": [
        "ignore = []\n",
        "for i in range(len(pages)):\n",
        "  user_ratings = re.findall('<a href=\"/user/.{1,100}</a>\\n.{1,200}</div>\\n\\n.{1,200}\\n.{1,200}</div>\\n.{1,100}\\n.{1,200}\\n.{1,200}\\n.{1,100}\">.{1,2}</div>\\n\\n', pages[i])\n",
        "  if len(user_ratings) == 0:\n",
        "    ignore.append(i)\n",
        "len(ignore)"
      ],
      "execution_count": 18,
      "outputs": [
        {
          "output_type": "execute_result",
          "data": {
            "text/plain": [
              "632"
            ]
          },
          "metadata": {
            "tags": []
          },
          "execution_count": 18
        }
      ]
    },
    {
      "cell_type": "code",
      "metadata": {
        "id": "BVlXsglgndfu",
        "colab": {
          "base_uri": "https://localhost:8080/"
        },
        "outputId": "85cbd8a1-1685-49f3-cc6b-f93fabe1c6fa"
      },
      "source": [
        "count = 0\n",
        "for page in pages:\n",
        "  next_page = re.findall('rel=\"next\" href=\".{1,200}\"><span class=\"text\">', page)\n",
        "  if len(next_page) != 0:\n",
        "    count += 1\n",
        "count"
      ],
      "execution_count": 19,
      "outputs": [
        {
          "output_type": "execute_result",
          "data": {
            "text/plain": [
              "188"
            ]
          },
          "metadata": {
            "tags": []
          },
          "execution_count": 19
        }
      ]
    },
    {
      "cell_type": "code",
      "metadata": {
        "colab": {
          "base_uri": "https://localhost:8080/",
          "height": 35
        },
        "id": "-SnJEa3RnC3Y",
        "outputId": "747db6a7-402a-4bf3-b4b4-70dbda5bb908"
      },
      "source": [
        "next_page = re.findall('rel=\"next\" href=\".{1,200}\"><span class=\"text\">', pages[1147])\n",
        "next_page[0][17:-21]"
      ],
      "execution_count": 20,
      "outputs": [
        {
          "output_type": "execute_result",
          "data": {
            "application/vnd.google.colaboratory.intrinsic+json": {
              "type": "string"
            },
            "text/plain": [
              "'/game/playstation-4/sekiro-shadows-die-twice/user-reviews?sort-by=most-helpful&num_items=100&page=1'"
            ]
          },
          "metadata": {
            "tags": []
          },
          "execution_count": 20
        }
      ]
    },
    {
      "cell_type": "markdown",
      "metadata": {
        "id": "VdKJg6pBNf8s"
      },
      "source": [
        "Getting the information from all the pages:"
      ]
    },
    {
      "cell_type": "code",
      "metadata": {
        "colab": {
          "base_uri": "https://localhost:8080/"
        },
        "id": "cCxFznvIzaCt",
        "outputId": "5f054e06-d77d-4a8f-a15d-02d5c4c9c123"
      },
      "source": [
        "for i in range(len(pages)):\n",
        "  user_ratings = re.findall('<a href=\"/user/.{1,100}</a>\\n.{1,200}</div>\\n\\n.{1,200}\\n.{1,200}</div>\\n.{1,100}\\n.{1,200}\\n.{1,200}\\n.{1,100}\\\">.{1,2}</div>\\n\\n', pages[i])\n",
        "  for raw_text in user_ratings:\n",
        "    user = re.findall('a href=\"/user/.{1,100}\">', raw_text)\n",
        "    user = user[0][14:-2]\n",
        "    rating = re.findall('\">.{1,2}</div>\\n\\n', raw_text)\n",
        "    rating = rating[0][2:-8]\n",
        "    ratings.append((i, user, rating))\n",
        "  next_page = re.findall('rel=\"next\" href=\".{1,200}\"><span class=\"text\">', pages[i])\n",
        "  while len(next_page) != 0:\n",
        "    next_page = next_page[0][17:-21]\n",
        "    response = requests.get('https://www.metacritic.com' + next_page, headers=userAgent)\n",
        "    page = response.content.decode()\n",
        "    user_ratings = re.findall('<a href=\"/user/.{1,100}</a>\\n.{1,200}</div>\\n\\n.{1,200}\\n.{1,200}</div>\\n.{1,100}\\n.{1,200}\\n.{1,200}\\n.{1,100}\\\">.{1,2}</div>\\n\\n', page)\n",
        "    time.sleep(4)\n",
        "    for raw_text in user_ratings:\n",
        "      user = re.findall('a href=\"/user/.{1,100}\">', raw_text)\n",
        "      user = user[0][14:-2]\n",
        "      rating = re.findall('\">.{1,2}</div>\\n\\n', raw_text)\n",
        "      rating = rating[0][2:-8]\n",
        "      ratings.append((i, user, rating))\n",
        "    next_page = re.findall('rel=\"next\" href=\".{1,200}\"><span class=\"text\">', page)\n",
        "len(ratings)"
      ],
      "execution_count": null,
      "outputs": [
        {
          "output_type": "execute_result",
          "data": {
            "text/plain": [
              "97529"
            ]
          },
          "metadata": {
            "tags": []
          },
          "execution_count": 105
        }
      ]
    },
    {
      "cell_type": "markdown",
      "metadata": {
        "id": "yydVXn-nN8zS"
      },
      "source": [
        "Creating dataframe from the collected information and save it to a csv file:"
      ]
    },
    {
      "cell_type": "code",
      "metadata": {
        "colab": {
          "base_uri": "https://localhost:8080/",
          "height": 404
        },
        "id": "UoPsgPjbbneP",
        "outputId": "2155b2db-1b4c-47a6-bdd6-8dff0864ba55"
      },
      "source": [
        "df_r = pandas.DataFrame(ratings, columns=['gameid', 'username', 'rating'])\n",
        "df_r"
      ],
      "execution_count": null,
      "outputs": [
        {
          "output_type": "execute_result",
          "data": {
            "text/html": [
              "<div>\n",
              "<style scoped>\n",
              "    .dataframe tbody tr th:only-of-type {\n",
              "        vertical-align: middle;\n",
              "    }\n",
              "\n",
              "    .dataframe tbody tr th {\n",
              "        vertical-align: top;\n",
              "    }\n",
              "\n",
              "    .dataframe thead th {\n",
              "        text-align: right;\n",
              "    }\n",
              "</style>\n",
              "<table border=\"1\" class=\"dataframe\">\n",
              "  <thead>\n",
              "    <tr style=\"text-align: right;\">\n",
              "      <th></th>\n",
              "      <th>gameid</th>\n",
              "      <th>username</th>\n",
              "      <th>rating</th>\n",
              "    </tr>\n",
              "  </thead>\n",
              "  <tbody>\n",
              "    <tr>\n",
              "      <th>0</th>\n",
              "      <td>0</td>\n",
              "      <td>consolfreak1982</td>\n",
              "      <td>8</td>\n",
              "    </tr>\n",
              "    <tr>\n",
              "      <th>1</th>\n",
              "      <td>0</td>\n",
              "      <td>GreenMachineG</td>\n",
              "      <td>6</td>\n",
              "    </tr>\n",
              "    <tr>\n",
              "      <th>2</th>\n",
              "      <td>1</td>\n",
              "      <td>bulger_paul</td>\n",
              "      <td>10</td>\n",
              "    </tr>\n",
              "    <tr>\n",
              "      <th>3</th>\n",
              "      <td>1</td>\n",
              "      <td>SuperDuck23</td>\n",
              "      <td>9</td>\n",
              "    </tr>\n",
              "    <tr>\n",
              "      <th>4</th>\n",
              "      <td>1</td>\n",
              "      <td>Wander22</td>\n",
              "      <td>8</td>\n",
              "    </tr>\n",
              "    <tr>\n",
              "      <th>...</th>\n",
              "      <td>...</td>\n",
              "      <td>...</td>\n",
              "      <td>...</td>\n",
              "    </tr>\n",
              "    <tr>\n",
              "      <th>97526</th>\n",
              "      <td>1577</td>\n",
              "      <td>SuperkenGaming</td>\n",
              "      <td>4</td>\n",
              "    </tr>\n",
              "    <tr>\n",
              "      <th>97527</th>\n",
              "      <td>1577</td>\n",
              "      <td>gobi123</td>\n",
              "      <td>10</td>\n",
              "    </tr>\n",
              "    <tr>\n",
              "      <th>97528</th>\n",
              "      <td>1582</td>\n",
              "      <td>Xtord</td>\n",
              "      <td>10</td>\n",
              "    </tr>\n",
              "    <tr>\n",
              "      <th>97529</th>\n",
              "      <td>1582</td>\n",
              "      <td>Peaceduke</td>\n",
              "      <td>5</td>\n",
              "    </tr>\n",
              "    <tr>\n",
              "      <th>97530</th>\n",
              "      <td>1582</td>\n",
              "      <td>bergcamp101</td>\n",
              "      <td>7</td>\n",
              "    </tr>\n",
              "  </tbody>\n",
              "</table>\n",
              "<p>97531 rows × 3 columns</p>\n",
              "</div>"
            ],
            "text/plain": [
              "       gameid         username rating\n",
              "0           0  consolfreak1982      8\n",
              "1           0    GreenMachineG      6\n",
              "2           1      bulger_paul     10\n",
              "3           1      SuperDuck23      9\n",
              "4           1         Wander22      8\n",
              "...       ...              ...    ...\n",
              "97526    1577   SuperkenGaming      4\n",
              "97527    1577          gobi123     10\n",
              "97528    1582            Xtord     10\n",
              "97529    1582        Peaceduke      5\n",
              "97530    1582      bergcamp101      7\n",
              "\n",
              "[97531 rows x 3 columns]"
            ]
          },
          "metadata": {
            "tags": []
          },
          "execution_count": 134
        }
      ]
    },
    {
      "cell_type": "code",
      "metadata": {
        "id": "ht7lfMe5cPeP"
      },
      "source": [
        "df_r.to_csv('user_ratings.csv', index=False)"
      ],
      "execution_count": null,
      "outputs": []
    }
  ]
}